{
  "nbformat": 4,
  "nbformat_minor": 0,
  "metadata": {
    "colab": {
      "name": "DeepLearningWithPythonCH03.ipynb",
      "version": "0.3.2",
      "provenance": [],
      "collapsed_sections": [],
      "include_colab_link": true
    },
    "kernelspec": {
      "name": "python3",
      "display_name": "Python 3"
    },
    "accelerator": "GPU"
  },
  "cells": [
    {
      "cell_type": "markdown",
      "metadata": {
        "id": "view-in-github",
        "colab_type": "text"
      },
      "source": [
        "<a href=\"https://colab.research.google.com/github/drhollander/DeepLearningWithPython/blob/master/DeepLearningWithPythonCH03.ipynb\" target=\"_parent\"><img src=\"https://colab.research.google.com/assets/colab-badge.svg\" alt=\"Open In Colab\"/></a>"
      ]
    },
    {
      "metadata": {
        "id": "pjLv2Wo30-xv",
        "colab_type": "code",
        "colab": {}
      },
      "cell_type": "code",
      "source": [
        "from tensorflow.keras import layers\n",
        "from tensorflow.keras import models\n",
        "from tensorflow.keras import optimizers"
      ],
      "execution_count": 0,
      "outputs": []
    },
    {
      "metadata": {
        "id": "uUzK3sCn1XSw",
        "colab_type": "code",
        "colab": {
          "base_uri": "https://localhost:8080/",
          "height": 88
        },
        "outputId": "8076db46-c704-4757-afaf-09e66f7d3663"
      },
      "cell_type": "code",
      "source": [
        "model = models.Sequential()\n",
        "model.add(layers.Dense(32, activation='relu', input_shape=(784,)))\n",
        "model.add(layers.Dense(10, activation='softmax'))"
      ],
      "execution_count": 2,
      "outputs": [
        {
          "output_type": "stream",
          "text": [
            "WARNING:tensorflow:From /usr/local/lib/python3.6/dist-packages/tensorflow/python/ops/resource_variable_ops.py:435: colocate_with (from tensorflow.python.framework.ops) is deprecated and will be removed in a future version.\n",
            "Instructions for updating:\n",
            "Colocations handled automatically by placer.\n"
          ],
          "name": "stdout"
        }
      ]
    },
    {
      "metadata": {
        "id": "EBH_g_3I1d5D",
        "colab_type": "code",
        "colab": {
          "base_uri": "https://localhost:8080/",
          "height": 238
        },
        "outputId": "b7832dcf-c3a2-46f2-9452-bf28faec422a"
      },
      "cell_type": "code",
      "source": [
        "model.summary()"
      ],
      "execution_count": 8,
      "outputs": [
        {
          "output_type": "stream",
          "text": [
            "_________________________________________________________________\n",
            "Layer (type)                 Output Shape              Param #   \n",
            "=================================================================\n",
            "input_4 (InputLayer)         (None, 784)               0         \n",
            "_________________________________________________________________\n",
            "dense_6 (Dense)              (None, 32)                25120     \n",
            "_________________________________________________________________\n",
            "dense_7 (Dense)              (None, 10)                330       \n",
            "=================================================================\n",
            "Total params: 25,450\n",
            "Trainable params: 25,450\n",
            "Non-trainable params: 0\n",
            "_________________________________________________________________\n"
          ],
          "name": "stdout"
        }
      ]
    },
    {
      "metadata": {
        "id": "4VdCAUQL0a4s",
        "colab_type": "text"
      },
      "cell_type": "markdown",
      "source": [
        "Alternatively, you can use the functional interface."
      ]
    },
    {
      "metadata": {
        "id": "IacSPEDv3E2e",
        "colab_type": "code",
        "colab": {}
      },
      "cell_type": "code",
      "source": [
        "input_tensor = layers.Input(shape=(784,))\n",
        "x = layers.Dense(32, activation='relu')(input_tensor)\n",
        "output_tensor = layers.Dense(10, activation='softmax')(x)\n",
        "\n",
        "model = models.Model(inputs=input_tensor, outputs=output_tensor)"
      ],
      "execution_count": 0,
      "outputs": []
    },
    {
      "metadata": {
        "id": "ufO4sjfB3F60",
        "colab_type": "code",
        "colab": {
          "base_uri": "https://localhost:8080/",
          "height": 238
        },
        "outputId": "11529610-9816-4849-be4f-684b3af47a2f"
      },
      "cell_type": "code",
      "source": [
        "model.summary()"
      ],
      "execution_count": 7,
      "outputs": [
        {
          "output_type": "stream",
          "text": [
            "_________________________________________________________________\n",
            "Layer (type)                 Output Shape              Param #   \n",
            "=================================================================\n",
            "input_4 (InputLayer)         (None, 784)               0         \n",
            "_________________________________________________________________\n",
            "dense_6 (Dense)              (None, 32)                25120     \n",
            "_________________________________________________________________\n",
            "dense_7 (Dense)              (None, 10)                330       \n",
            "=================================================================\n",
            "Total params: 25,450\n",
            "Trainable params: 25,450\n",
            "Non-trainable params: 0\n",
            "_________________________________________________________________\n"
          ],
          "name": "stdout"
        }
      ]
    },
    {
      "metadata": {
        "id": "gzQpScKg1z0R",
        "colab_type": "text"
      },
      "cell_type": "markdown",
      "source": [
        "Once an architecture has been constructed, you can compile it and specify which optimizer and loss function to use for training."
      ]
    },
    {
      "metadata": {
        "id": "Sl_U-5mB1dAk",
        "colab_type": "code",
        "colab": {
          "base_uri": "https://localhost:8080/",
          "height": 88
        },
        "outputId": "d253a741-8f81-405f-de92-ccdb22df50dc"
      },
      "cell_type": "code",
      "source": [
        "model.compile(optimizer=optimizers.RMSprop(lr=0.001), loss='mse', metrics=['accuracy'])"
      ],
      "execution_count": 10,
      "outputs": [
        {
          "output_type": "stream",
          "text": [
            "WARNING:tensorflow:From /usr/local/lib/python3.6/dist-packages/tensorflow/python/keras/utils/losses_utils.py:170: to_float (from tensorflow.python.ops.math_ops) is deprecated and will be removed in a future version.\n",
            "Instructions for updating:\n",
            "Use tf.cast instead.\n"
          ],
          "name": "stdout"
        }
      ]
    },
    {
      "metadata": {
        "id": "KxQPTZqr1_3c",
        "colab_type": "text"
      },
      "cell_type": "markdown",
      "source": [
        "The actually training is done by calling the `fit` method on the model."
      ]
    },
    {
      "metadata": {
        "id": "UP2oCz6Z8QIN",
        "colab_type": "text"
      },
      "cell_type": "markdown",
      "source": [
        "# IMDB Review Classification"
      ]
    },
    {
      "metadata": {
        "id": "OzGnUvnT1yl_",
        "colab_type": "code",
        "colab": {}
      },
      "cell_type": "code",
      "source": [
        "from tensorflow.keras.datasets import imdb"
      ],
      "execution_count": 0,
      "outputs": []
    },
    {
      "metadata": {
        "id": "M3_N3j-42I7C",
        "colab_type": "code",
        "colab": {
          "base_uri": "https://localhost:8080/",
          "height": 51
        },
        "outputId": "3cde4846-7667-4214-c770-df8b2bc166e0"
      },
      "cell_type": "code",
      "source": [
        "(train_data, train_labels), (test_data, test_labels) = imdb.load_data(num_words=10000)"
      ],
      "execution_count": 3,
      "outputs": [
        {
          "output_type": "stream",
          "text": [
            "Downloading data from https://storage.googleapis.com/tensorflow/tf-keras-datasets/imdb.npz\n",
            "17465344/17464789 [==============================] - 1s 0us/step\n"
          ],
          "name": "stdout"
        }
      ]
    },
    {
      "metadata": {
        "id": "Di9fxA7K-uSS",
        "colab_type": "text"
      },
      "cell_type": "markdown",
      "source": [
        "If we want to see what a sample looks like, we'll have to translate the array of numbers into words. We can do this using the word list stored in the dataset."
      ]
    },
    {
      "metadata": {
        "id": "3QCdsJK09zmy",
        "colab_type": "code",
        "colab": {
          "base_uri": "https://localhost:8080/",
          "height": 51
        },
        "outputId": "cc108c35-0002-4c09-83b3-d1958c58b2c7"
      },
      "cell_type": "code",
      "source": [
        "word_index = imdb.get_word_index()\n",
        "reverse_word_index = dict((value, key) for key, value in word_index.items())\n",
        "decoded_review = ' '.join([reverse_word_index.get(i - 3, '?') for i in train_data[0]])\n",
        "# we have to shift the decode to account for the encoding scheme"
      ],
      "execution_count": 3,
      "outputs": [
        {
          "output_type": "stream",
          "text": [
            "Downloading data from https://storage.googleapis.com/tensorflow/tf-keras-datasets/imdb_word_index.json\n",
            "1646592/1641221 [==============================] - 0s 0us/step\n"
          ],
          "name": "stdout"
        }
      ]
    },
    {
      "metadata": {
        "id": "QYDrIodd_uGH",
        "colab_type": "code",
        "colab": {
          "base_uri": "https://localhost:8080/",
          "height": 34
        },
        "outputId": "6811170a-d08e-4187-a62d-be3d2f5b6985"
      },
      "cell_type": "code",
      "source": [
        "reverse_word_index.get(5-3, '?')\n",
        "#sorted(set((train_data[0])))"
      ],
      "execution_count": 4,
      "outputs": [
        {
          "output_type": "execute_result",
          "data": {
            "text/plain": [
              "'and'"
            ]
          },
          "metadata": {
            "tags": []
          },
          "execution_count": 4
        }
      ]
    },
    {
      "metadata": {
        "id": "lQJpLFOe-pI6",
        "colab_type": "code",
        "colab": {
          "base_uri": "https://localhost:8080/",
          "height": 54
        },
        "outputId": "164c2c0b-5b65-45d4-fd59-36c3971c5a31"
      },
      "cell_type": "code",
      "source": [
        "decoded_review"
      ],
      "execution_count": 5,
      "outputs": [
        {
          "output_type": "execute_result",
          "data": {
            "text/plain": [
              "\"? this film was just brilliant casting location scenery story direction everyone's really suited the part they played and you could just imagine being there robert ? is an amazing actor and now the same being director ? father came from the same scottish island as myself so i loved the fact there was a real connection with this film the witty remarks throughout the film were great it was just brilliant so much that i bought the film as soon as it was released for ? and would recommend it to everyone to watch and the fly fishing was amazing really cried at the end it was so sad and you know what they say if you cry at a film it must have been good and this definitely was also ? to the two little boy's that played the ? of norman and paul they were just brilliant children are often left out of the ? list i think because the stars that play them all grown up are such a big profile for the whole film but these children are amazing and should be praised for what they have done don't you think the whole story was so lovely because it was true and was someone's life after all that was shared with us all\""
            ]
          },
          "metadata": {
            "tags": []
          },
          "execution_count": 5
        }
      ]
    },
    {
      "metadata": {
        "id": "GKnt2Ox1SKv8",
        "colab_type": "text"
      },
      "cell_type": "markdown",
      "source": [
        "Because a neural network expects numeric inputs, and we cannot ensure that future examples will have the same encoding as the imdb data, it is easier to encode the input as a binary vector where column i is 1 if word i is present in the sentence."
      ]
    },
    {
      "metadata": {
        "id": "7T2dtFYrQnBY",
        "colab_type": "code",
        "colab": {}
      },
      "cell_type": "code",
      "source": [
        "import numpy as np"
      ],
      "execution_count": 0,
      "outputs": []
    },
    {
      "metadata": {
        "id": "llD0mWEmQpZP",
        "colab_type": "code",
        "colab": {}
      },
      "cell_type": "code",
      "source": [
        "def vectorize_sequences(sequences, dimension=10000):\n",
        "  # expects a sequence of sequence<int>\n",
        "  results = np.zeros((len(sequences), dimension))\n",
        "  for i, sequence in enumerate(sequences):\n",
        "    results[i, sequence] = 1\n",
        "  return results"
      ],
      "execution_count": 0,
      "outputs": []
    },
    {
      "metadata": {
        "id": "XPJ9hNu-R1T_",
        "colab_type": "code",
        "colab": {}
      },
      "cell_type": "code",
      "source": [
        "x_train = vectorize_sequences(train_data)\n",
        "x_test = vectorize_sequences(test_data)"
      ],
      "execution_count": 0,
      "outputs": []
    },
    {
      "metadata": {
        "id": "i7FZeV1eR6XE",
        "colab_type": "code",
        "colab": {
          "base_uri": "https://localhost:8080/",
          "height": 136
        },
        "outputId": "093f4943-9113-4476-d852-a3338c726cd4"
      },
      "cell_type": "code",
      "source": [
        "x_train"
      ],
      "execution_count": 7,
      "outputs": [
        {
          "output_type": "execute_result",
          "data": {
            "text/plain": [
              "array([[0., 1., 1., ..., 0., 0., 0.],\n",
              "       [0., 1., 1., ..., 0., 0., 0.],\n",
              "       [0., 1., 1., ..., 0., 0., 0.],\n",
              "       ...,\n",
              "       [0., 1., 1., ..., 0., 0., 0.],\n",
              "       [0., 1., 1., ..., 0., 0., 0.],\n",
              "       [0., 1., 1., ..., 0., 0., 0.]])"
            ]
          },
          "metadata": {
            "tags": []
          },
          "execution_count": 7
        }
      ]
    },
    {
      "metadata": {
        "id": "2sxQYJ1NR_iS",
        "colab_type": "code",
        "colab": {}
      },
      "cell_type": "code",
      "source": [
        "y_train = np.asarray(train_labels).astype('float32')\n",
        "y_test = np.asarray(test_labels).astype('float32')"
      ],
      "execution_count": 0,
      "outputs": []
    },
    {
      "metadata": {
        "id": "9Cg0wzxMSzAC",
        "colab_type": "text"
      },
      "cell_type": "markdown",
      "source": [
        "Now we build a network architecture to classify sentiment."
      ]
    },
    {
      "metadata": {
        "id": "kxXs_nqLSIJw",
        "colab_type": "code",
        "colab": {
          "base_uri": "https://localhost:8080/",
          "height": 88
        },
        "outputId": "2dd1ff0b-9b1d-4df3-a747-abe398f85110"
      },
      "cell_type": "code",
      "source": [
        "model = models.Sequential()\n",
        "model.add(layers.Dense(16, activation='relu', input_shape=(10000,)))\n",
        "model.add(layers.Dense(16, activation='relu'))\n",
        "model.add(layers.Dense(1, activation='sigmoid'))"
      ],
      "execution_count": 9,
      "outputs": [
        {
          "output_type": "stream",
          "text": [
            "WARNING:tensorflow:From /usr/local/lib/python3.6/dist-packages/tensorflow/python/ops/resource_variable_ops.py:435: colocate_with (from tensorflow.python.framework.ops) is deprecated and will be removed in a future version.\n",
            "Instructions for updating:\n",
            "Colocations handled automatically by placer.\n"
          ],
          "name": "stdout"
        }
      ]
    },
    {
      "metadata": {
        "id": "64xM31KfTDMo",
        "colab_type": "code",
        "colab": {
          "base_uri": "https://localhost:8080/",
          "height": 238
        },
        "outputId": "f0790740-8d56-4dac-f633-86c03c0ee7a2"
      },
      "cell_type": "code",
      "source": [
        "model.summary()"
      ],
      "execution_count": 18,
      "outputs": [
        {
          "output_type": "stream",
          "text": [
            "_________________________________________________________________\n",
            "Layer (type)                 Output Shape              Param #   \n",
            "=================================================================\n",
            "dense (Dense)                (None, 16)                160016    \n",
            "_________________________________________________________________\n",
            "dense_1 (Dense)              (None, 16)                272       \n",
            "_________________________________________________________________\n",
            "dense_2 (Dense)              (None, 1)                 17        \n",
            "=================================================================\n",
            "Total params: 160,305\n",
            "Trainable params: 160,305\n",
            "Non-trainable params: 0\n",
            "_________________________________________________________________\n"
          ],
          "name": "stdout"
        }
      ]
    },
    {
      "metadata": {
        "id": "lST28ppkTFc6",
        "colab_type": "code",
        "colab": {}
      },
      "cell_type": "code",
      "source": [
        "model.compile(optimizer='rmsprop', loss='binary_crossentropy', metrics=['accuracy'])"
      ],
      "execution_count": 0,
      "outputs": []
    },
    {
      "metadata": {
        "id": "er5WtcRMTYfJ",
        "colab_type": "code",
        "colab": {}
      },
      "cell_type": "code",
      "source": [
        "x_val = x_train[:10000]\n",
        "partial_x_train = x_train[10000:]"
      ],
      "execution_count": 0,
      "outputs": []
    },
    {
      "metadata": {
        "id": "r_PpIyW6T6dA",
        "colab_type": "code",
        "colab": {}
      },
      "cell_type": "code",
      "source": [
        "y_val = y_train[:10000]\n",
        "partial_y_train = y_train[10000:]"
      ],
      "execution_count": 0,
      "outputs": []
    },
    {
      "metadata": {
        "id": "5WjV3po0T8Ge",
        "colab_type": "code",
        "colab": {
          "base_uri": "https://localhost:8080/",
          "height": 785
        },
        "outputId": "add824ce-1511-43ac-8a81-65a2a87566bb"
      },
      "cell_type": "code",
      "source": [
        "history = model.fit(partial_x_train, partial_y_train, epochs=20, batch_size=512, validation_data=(x_val, y_val))"
      ],
      "execution_count": 13,
      "outputs": [
        {
          "output_type": "stream",
          "text": [
            "Train on 15000 samples, validate on 10000 samples\n",
            "WARNING:tensorflow:From /usr/local/lib/python3.6/dist-packages/tensorflow/python/ops/math_ops.py:3066: to_int32 (from tensorflow.python.ops.math_ops) is deprecated and will be removed in a future version.\n",
            "Instructions for updating:\n",
            "Use tf.cast instead.\n",
            "Epoch 1/20\n",
            "15000/15000 [==============================] - 3s 180us/sample - loss: 0.5710 - acc: 0.7747 - val_loss: 0.4487 - val_acc: 0.8574\n",
            "Epoch 2/20\n",
            "15000/15000 [==============================] - 2s 103us/sample - loss: 0.3552 - acc: 0.8929 - val_loss: 0.3302 - val_acc: 0.8803\n",
            "Epoch 3/20\n",
            "15000/15000 [==============================] - 1s 100us/sample - loss: 0.2531 - acc: 0.9183 - val_loss: 0.2860 - val_acc: 0.8917\n",
            "Epoch 4/20\n",
            "15000/15000 [==============================] - 2s 100us/sample - loss: 0.1987 - acc: 0.9343 - val_loss: 0.2777 - val_acc: 0.8911\n",
            "Epoch 5/20\n",
            "15000/15000 [==============================] - 1s 99us/sample - loss: 0.1601 - acc: 0.9482 - val_loss: 0.2959 - val_acc: 0.8819\n",
            "Epoch 6/20\n",
            "15000/15000 [==============================] - 2s 100us/sample - loss: 0.1314 - acc: 0.9597 - val_loss: 0.2811 - val_acc: 0.8895\n",
            "Epoch 7/20\n",
            "15000/15000 [==============================] - 1s 100us/sample - loss: 0.1099 - acc: 0.9658 - val_loss: 0.2937 - val_acc: 0.8862\n",
            "Epoch 8/20\n",
            "15000/15000 [==============================] - 2s 101us/sample - loss: 0.0880 - acc: 0.9760 - val_loss: 0.3115 - val_acc: 0.8822\n",
            "Epoch 9/20\n",
            "15000/15000 [==============================] - 1s 100us/sample - loss: 0.0713 - acc: 0.9821 - val_loss: 0.3612 - val_acc: 0.8764\n",
            "Epoch 10/20\n",
            "15000/15000 [==============================] - 2s 100us/sample - loss: 0.0603 - acc: 0.9844 - val_loss: 0.3536 - val_acc: 0.8796\n",
            "Epoch 11/20\n",
            "15000/15000 [==============================] - 1s 99us/sample - loss: 0.0471 - acc: 0.9892 - val_loss: 0.3979 - val_acc: 0.8707\n",
            "Epoch 12/20\n",
            "15000/15000 [==============================] - 2s 100us/sample - loss: 0.0362 - acc: 0.9926 - val_loss: 0.4042 - val_acc: 0.8763\n",
            "Epoch 13/20\n",
            "15000/15000 [==============================] - 1s 100us/sample - loss: 0.0295 - acc: 0.9944 - val_loss: 0.4352 - val_acc: 0.8751\n",
            "Epoch 14/20\n",
            "15000/15000 [==============================] - 1s 100us/sample - loss: 0.0240 - acc: 0.9950 - val_loss: 0.4631 - val_acc: 0.8726\n",
            "Epoch 15/20\n",
            "15000/15000 [==============================] - 1s 100us/sample - loss: 0.0180 - acc: 0.9975 - val_loss: 0.4957 - val_acc: 0.8718\n",
            "Epoch 16/20\n",
            "15000/15000 [==============================] - 2s 101us/sample - loss: 0.0144 - acc: 0.9977 - val_loss: 0.5236 - val_acc: 0.8719\n",
            "Epoch 17/20\n",
            "15000/15000 [==============================] - 1s 100us/sample - loss: 0.0083 - acc: 0.9996 - val_loss: 0.5567 - val_acc: 0.8701\n",
            "Epoch 18/20\n",
            "15000/15000 [==============================] - 2s 101us/sample - loss: 0.0096 - acc: 0.9986 - val_loss: 0.5907 - val_acc: 0.8687\n",
            "Epoch 19/20\n",
            "15000/15000 [==============================] - 1s 99us/sample - loss: 0.0045 - acc: 0.9999 - val_loss: 0.6721 - val_acc: 0.8644\n",
            "Epoch 20/20\n",
            "15000/15000 [==============================] - 1s 99us/sample - loss: 0.0051 - acc: 0.9997 - val_loss: 0.6554 - val_acc: 0.8683\n"
          ],
          "name": "stdout"
        }
      ]
    },
    {
      "metadata": {
        "id": "oGus2EGWWJHv",
        "colab_type": "code",
        "colab": {
          "base_uri": "https://localhost:8080/",
          "height": 34
        },
        "outputId": "3ce58c7f-ab0f-47de-bfc1-53eead5a2bdf"
      },
      "cell_type": "code",
      "source": [
        "results = model.evaluate(x_test, y_test)"
      ],
      "execution_count": 14,
      "outputs": [
        {
          "output_type": "stream",
          "text": [
            "25000/25000 [==============================] - 3s 105us/sample - loss: 0.7256 - acc: 0.8521\n"
          ],
          "name": "stdout"
        }
      ]
    },
    {
      "metadata": {
        "id": "y8OyddYjWPMC",
        "colab_type": "code",
        "colab": {
          "base_uri": "https://localhost:8080/",
          "height": 34
        },
        "outputId": "6b868783-f042-49c4-d662-7a3838c8021b"
      },
      "cell_type": "code",
      "source": [
        "results"
      ],
      "execution_count": 15,
      "outputs": [
        {
          "output_type": "execute_result",
          "data": {
            "text/plain": [
              "[0.7256492724561692, 0.85212]"
            ]
          },
          "metadata": {
            "tags": []
          },
          "execution_count": 15
        }
      ]
    },
    {
      "metadata": {
        "id": "ryjNnuKJUF5f",
        "colab_type": "code",
        "colab": {}
      },
      "cell_type": "code",
      "source": [
        "history_dict = history.history"
      ],
      "execution_count": 0,
      "outputs": []
    },
    {
      "metadata": {
        "id": "ln-JLc6lUYtk",
        "colab_type": "code",
        "colab": {
          "base_uri": "https://localhost:8080/",
          "height": 34
        },
        "outputId": "2cd9aa43-d7ce-450e-b581-ce2f4c3986d2"
      },
      "cell_type": "code",
      "source": [
        "history_dict.keys()"
      ],
      "execution_count": 26,
      "outputs": [
        {
          "output_type": "execute_result",
          "data": {
            "text/plain": [
              "dict_keys(['loss', 'acc', 'val_loss', 'val_acc'])"
            ]
          },
          "metadata": {
            "tags": []
          },
          "execution_count": 26
        }
      ]
    },
    {
      "metadata": {
        "id": "VS-M2w8mUigA",
        "colab_type": "code",
        "colab": {}
      },
      "cell_type": "code",
      "source": [
        "import matplotlib.pyplot as plt"
      ],
      "execution_count": 0,
      "outputs": []
    },
    {
      "metadata": {
        "id": "NZaUofTWUmRA",
        "colab_type": "code",
        "colab": {}
      },
      "cell_type": "code",
      "source": [
        "def plot_loss(history_dict):\n",
        "  loss_values = history_dict['loss']\n",
        "  val_loss_values = history_dict['val_loss']\n",
        "  \n",
        "  epochs = range(1, len(loss_values)+1)\n",
        "  \n",
        "  plt.plot(epochs, loss_values, 'bo', label='Training Loss')\n",
        "  plt.plot(epochs, val_loss_values, 'b', label='Validation Loss')\n",
        "  plt.title('Training and validation loss')\n",
        "  plt.xlabel('Epochs')\n",
        "  plt.ylabel('Loss')\n",
        "  plt.legend()\n",
        "  \n",
        "  plt.show()"
      ],
      "execution_count": 0,
      "outputs": []
    },
    {
      "metadata": {
        "id": "4n0Flz1AVQ0v",
        "colab_type": "code",
        "colab": {}
      },
      "cell_type": "code",
      "source": [
        "def plot_accuracy(history_dict):\n",
        "  acc_values = history_dict['acc']\n",
        "  val_acc_values = history_dict['val_acc']\n",
        "  \n",
        "  epochs = range(1, len(acc_values)+1)\n",
        "  \n",
        "  plt.plot(epochs, acc_values, 'bo', label='Training Accuracy')\n",
        "  plt.plot(epochs, val_acc_values, 'b', label='Validation Accuracy')\n",
        "  plt.title('Training and validation accuracy')\n",
        "  plt.xlabel('Epochs')\n",
        "  plt.ylabel('Loss')\n",
        "  plt.legend()\n",
        "  \n",
        "  plt.show()"
      ],
      "execution_count": 0,
      "outputs": []
    },
    {
      "metadata": {
        "id": "eLbHvxuqVNX1",
        "colab_type": "code",
        "colab": {
          "base_uri": "https://localhost:8080/",
          "height": 376
        },
        "outputId": "15613c6c-5de7-4424-9d15-2cbf907a1416"
      },
      "cell_type": "code",
      "source": [
        "plot_loss(history.history)"
      ],
      "execution_count": 30,
      "outputs": [
        {
          "output_type": "display_data",
          "data": {
            "image/png": "[encoded data removed]",
            "text/plain": [
              "<Figure size 576x396 with 1 Axes>"
            ]
          },
          "metadata": {
            "tags": []
          }
        }
      ]
    },
    {
      "metadata": {
        "id": "Qs6fYbgMVt_8",
        "colab_type": "code",
        "colab": {
          "base_uri": "https://localhost:8080/",
          "height": 376
        },
        "outputId": "5c3c6ac4-5baa-4976-fdd7-b1e7d4af0e15"
      },
      "cell_type": "code",
      "source": [
        "plot_accuracy(history.history)"
      ],
      "execution_count": 31,
      "outputs": [
        {
          "output_type": "display_data",
          "data": {
            "image/png": "[encoded data removed]",
            "text/plain": [
              "<Figure size 576x396 with 1 Axes>"
            ]
          },
          "metadata": {
            "tags": []
          }
        }
      ]
    },
    {
      "metadata": {
        "id": "pNjSlWEXWfKV",
        "colab_type": "text"
      },
      "cell_type": "markdown",
      "source": [
        "The model overfits as the number of epochs increase. We can try to limit training to 4 epochs and see how well it does."
      ]
    },
    {
      "metadata": {
        "id": "Ip58A4zoVv_u",
        "colab_type": "code",
        "colab": {
          "base_uri": "https://localhost:8080/",
          "height": 153
        },
        "outputId": "a5623a01-127e-4694-eb28-bbfdfd2660c9"
      },
      "cell_type": "code",
      "source": [
        "model = models.Sequential()\n",
        "model.add(layers.Dense(16, activation='relu', input_shape=(10000,)))\n",
        "model.add(layers.Dense(16, activation='relu'))\n",
        "model.add(layers.Dense(1, activation='sigmoid'))\n",
        "\n",
        "model.compile(optimizer='rmsprop', loss='binary_crossentropy', metrics=['accuracy'])\n",
        "\n",
        "history = model.fit(x_train, y_train, epochs=4, batch_size=512)"
      ],
      "execution_count": 16,
      "outputs": [
        {
          "output_type": "stream",
          "text": [
            "Epoch 1/4\n",
            "25000/25000 [==============================] - 2s 68us/sample - loss: 0.4898 - acc: 0.8205\n",
            "Epoch 2/4\n",
            "25000/25000 [==============================] - 2s 65us/sample - loss: 0.2856 - acc: 0.9038\n",
            "Epoch 3/4\n",
            "25000/25000 [==============================] - 2s 63us/sample - loss: 0.2146 - acc: 0.9248\n",
            "Epoch 4/4\n",
            "25000/25000 [==============================] - 2s 63us/sample - loss: 0.1775 - acc: 0.9369\n"
          ],
          "name": "stdout"
        }
      ]
    },
    {
      "metadata": {
        "id": "KIrth5dOWT4F",
        "colab_type": "code",
        "colab": {
          "base_uri": "https://localhost:8080/",
          "height": 51
        },
        "outputId": "c30ab19f-9ef3-4ede-9492-ad52cf5c0285"
      },
      "cell_type": "code",
      "source": [
        "model.evaluate(x_test, y_test)"
      ],
      "execution_count": 17,
      "outputs": [
        {
          "output_type": "stream",
          "text": [
            "25000/25000 [==============================] - 3s 108us/sample - loss: 0.2846 - acc: 0.8865\n"
          ],
          "name": "stdout"
        },
        {
          "output_type": "execute_result",
          "data": {
            "text/plain": [
              "[0.28463597324371337, 0.88652]"
            ]
          },
          "metadata": {
            "tags": []
          },
          "execution_count": 17
        }
      ]
    },
    {
      "metadata": {
        "id": "QUfiEA_hWm6T",
        "colab_type": "text"
      },
      "cell_type": "markdown",
      "source": [
        "To predict the output of new data, you can use the `predict` method."
      ]
    },
    {
      "metadata": {
        "id": "FiIta-Y_WrIc",
        "colab_type": "code",
        "colab": {
          "base_uri": "https://localhost:8080/",
          "height": 153
        },
        "outputId": "9c75b9d0-0faf-48fe-e2c4-1b5be0b0aa57"
      },
      "cell_type": "code",
      "source": [
        "model.predict(x_test), y_test"
      ],
      "execution_count": 34,
      "outputs": [
        {
          "output_type": "execute_result",
          "data": {
            "text/plain": [
              "(array([[0.01344559],\n",
              "        [0.9999963 ],\n",
              "        [0.7675024 ],\n",
              "        ...,\n",
              "        [0.08694142],\n",
              "        [0.03235522],\n",
              "        [0.92654186]], dtype=float32),\n",
              " array([0., 1., 1., ..., 0., 0., 0.], dtype=float32))"
            ]
          },
          "metadata": {
            "tags": []
          },
          "execution_count": 34
        }
      ]
    },
    {
      "metadata": {
        "id": "wVoweC0ywDow",
        "colab_type": "text"
      },
      "cell_type": "markdown",
      "source": [
        "# Classifying Newswires"
      ]
    },
    {
      "metadata": {
        "id": "qGqZs0BzwBPw",
        "colab_type": "code",
        "colab": {
          "base_uri": "https://localhost:8080/",
          "height": 34
        },
        "outputId": "cf3d6830-1c11-40d0-ec80-890b08f8eb2a"
      },
      "cell_type": "code",
      "source": [
        "from keras.datasets import reuters"
      ],
      "execution_count": 35,
      "outputs": [
        {
          "output_type": "stream",
          "text": [
            "Using TensorFlow backend.\n"
          ],
          "name": "stderr"
        }
      ]
    },
    {
      "metadata": {
        "id": "wyU4ZYyywJ1i",
        "colab_type": "code",
        "colab": {
          "base_uri": "https://localhost:8080/",
          "height": 51
        },
        "outputId": "73cc1eda-0367-4dcb-d46e-7aa82dd4d265"
      },
      "cell_type": "code",
      "source": [
        "(train_data, train_labels), (test_data, test_labels) = reuters.load_data(num_words=10000)"
      ],
      "execution_count": 36,
      "outputs": [
        {
          "output_type": "stream",
          "text": [
            "Downloading data from https://s3.amazonaws.com/text-datasets/reuters.npz\n",
            "2113536/2110848 [==============================] - 0s 0us/step\n"
          ],
          "name": "stdout"
        }
      ]
    },
    {
      "metadata": {
        "id": "6D-9k3UazzNZ",
        "colab_type": "code",
        "colab": {
          "base_uri": "https://localhost:8080/",
          "height": 34
        },
        "outputId": "1ec0a6d5-a740-4a46-a845-8a4fe4064535"
      },
      "cell_type": "code",
      "source": [
        "len(train_data), len(test_data)"
      ],
      "execution_count": 67,
      "outputs": [
        {
          "output_type": "execute_result",
          "data": {
            "text/plain": [
              "11228"
            ]
          },
          "metadata": {
            "tags": []
          },
          "execution_count": 67
        }
      ]
    },
    {
      "metadata": {
        "id": "DjTaTnaUwQVn",
        "colab_type": "code",
        "colab": {
          "base_uri": "https://localhost:8080/",
          "height": 173
        },
        "outputId": "35f11a08-b1bc-41d4-8fe5-a2ed6c58e8ad"
      },
      "cell_type": "code",
      "source": [
        "train_data"
      ],
      "execution_count": 38,
      "outputs": [
        {
          "output_type": "execute_result",
          "data": {
            "text/plain": [
              "array([list([1, 2, 2, 8, 43, 10, 447, 5, 25, 207, 270, 5, 3095, 111, 16, 369, 186, 90, 67, 7, 89, 5, 19, 102, 6, 19, 124, 15, 90, 67, 84, 22, 482, 26, 7, 48, 4, 49, 8, 864, 39, 209, 154, 6, 151, 6, 83, 11, 15, 22, 155, 11, 15, 7, 48, 9, 4579, 1005, 504, 6, 258, 6, 272, 11, 15, 22, 134, 44, 11, 15, 16, 8, 197, 1245, 90, 67, 52, 29, 209, 30, 32, 132, 6, 109, 15, 17, 12]),\n",
              "       list([1, 3267, 699, 3434, 2295, 56, 2, 7511, 9, 56, 3906, 1073, 81, 5, 1198, 57, 366, 737, 132, 20, 4093, 7, 2, 49, 2295, 2, 1037, 3267, 699, 3434, 8, 7, 10, 241, 16, 855, 129, 231, 783, 5, 4, 587, 2295, 2, 2, 775, 7, 48, 34, 191, 44, 35, 1795, 505, 17, 12]),\n",
              "       list([1, 53, 12, 284, 15, 14, 272, 26, 53, 959, 32, 818, 15, 14, 272, 26, 39, 684, 70, 11, 14, 12, 3886, 18, 180, 183, 187, 70, 11, 14, 102, 32, 11, 29, 53, 44, 704, 15, 14, 19, 758, 15, 53, 959, 47, 1013, 15, 14, 19, 132, 15, 39, 965, 32, 11, 14, 147, 72, 11, 180, 183, 187, 44, 11, 14, 102, 19, 11, 123, 186, 90, 67, 960, 4, 78, 13, 68, 467, 511, 110, 59, 89, 90, 67, 1390, 55, 2678, 92, 617, 80, 1274, 46, 905, 220, 13, 4, 346, 48, 235, 629, 5, 211, 5, 1118, 7, 2, 81, 5, 187, 11, 15, 9, 1709, 201, 5, 47, 3615, 18, 478, 4514, 5, 1118, 7, 232, 2, 71, 5, 160, 63, 11, 9, 2, 81, 5, 102, 59, 11, 17, 12]),\n",
              "       ...,\n",
              "       list([1, 141, 3890, 387, 81, 8, 16, 1629, 10, 340, 1241, 850, 31, 56, 3890, 691, 9, 1241, 71, 9, 5985, 2, 2, 699, 2, 2, 2, 699, 244, 5945, 4, 49, 8, 4, 656, 850, 33, 2993, 9, 2139, 340, 3371, 1493, 9, 2, 22, 2, 1094, 687, 83, 35, 15, 257, 6, 57, 9190, 7, 4, 5956, 654, 5, 2, 6191, 1371, 4, 49, 8, 16, 369, 646, 6, 1076, 7, 124, 407, 17, 12]),\n",
              "       list([1, 53, 46, 957, 26, 14, 74, 132, 26, 39, 46, 258, 3614, 18, 14, 74, 134, 5131, 18, 88, 2321, 72, 11, 14, 1842, 32, 11, 123, 383, 89, 39, 46, 235, 10, 864, 728, 5, 258, 44, 11, 15, 22, 753, 9, 42, 92, 131, 728, 5, 69, 312, 11, 15, 22, 222, 2, 3237, 383, 48, 39, 74, 235, 10, 864, 276, 5, 61, 32, 11, 15, 21, 4, 211, 5, 126, 1072, 42, 92, 131, 46, 19, 352, 11, 15, 22, 710, 220, 9, 42, 92, 131, 276, 5, 59, 61, 11, 15, 22, 10, 455, 7, 1172, 137, 336, 1325, 6, 1532, 142, 971, 6463, 43, 359, 5, 4, 326, 753, 364, 17, 12]),\n",
              "       list([1, 227, 2406, 91, 2, 125, 2855, 21, 4, 3976, 76, 7, 4, 757, 481, 3976, 790, 5259, 5654, 9, 111, 149, 8, 7, 10, 76, 223, 51, 4, 417, 8, 1047, 91, 6917, 1688, 340, 7, 194, 9411, 6, 1894, 21, 127, 2151, 2394, 1456, 6, 3034, 4, 329, 433, 7, 65, 87, 1127, 10, 8219, 1475, 290, 9, 21, 567, 16, 1926, 24, 4, 76, 209, 30, 4033, 6655, 5654, 8, 4, 60, 8, 4, 966, 308, 40, 2575, 129, 2, 295, 277, 1071, 9, 24, 286, 2114, 234, 222, 9, 4, 906, 3994, 8519, 114, 5758, 1752, 7, 4, 113, 17, 12])],\n",
              "      dtype=object)"
            ]
          },
          "metadata": {
            "tags": []
          },
          "execution_count": 38
        }
      ]
    },
    {
      "metadata": {
        "id": "zR0Gmte-0eWY",
        "colab_type": "code",
        "colab": {
          "base_uri": "https://localhost:8080/",
          "height": 34
        },
        "outputId": "1d7fdbb0-bfed-459d-c4e8-19b97e731319"
      },
      "cell_type": "code",
      "source": [
        "train_labels"
      ],
      "execution_count": 68,
      "outputs": [
        {
          "output_type": "execute_result",
          "data": {
            "text/plain": [
              "array([ 3,  4,  3, ..., 25,  3, 25])"
            ]
          },
          "metadata": {
            "tags": []
          },
          "execution_count": 68
        }
      ]
    },
    {
      "metadata": {
        "id": "X_ghC38mwUpm",
        "colab_type": "code",
        "colab": {}
      },
      "cell_type": "code",
      "source": [
        "word_index = reuters.get_word_index()\n",
        "reverse_word_index = dict([(value, key) for (key, value) in word_index.items()])"
      ],
      "execution_count": 0,
      "outputs": []
    },
    {
      "metadata": {
        "id": "0jRQUEV4wbcK",
        "colab_type": "code",
        "colab": {}
      },
      "cell_type": "code",
      "source": [
        "decoded_newswire = ' '.join([reverse_word_index.get(i - 3, '?') for i in train_data[0]])"
      ],
      "execution_count": 0,
      "outputs": []
    },
    {
      "metadata": {
        "id": "pxeZAjbFxCZ-",
        "colab_type": "code",
        "colab": {
          "base_uri": "https://localhost:8080/",
          "height": 54
        },
        "outputId": "381d44cf-4687-41f5-f55a-cc3b39c49e35"
      },
      "cell_type": "code",
      "source": [
        "decoded_newswire"
      ],
      "execution_count": 43,
      "outputs": [
        {
          "output_type": "execute_result",
          "data": {
            "text/plain": [
              "'? ? ? said as a result of its december acquisition of space co it expects earnings per share in 1987 of 1 15 to 1 30 dlrs per share up from 70 cts in 1986 the company said pretax net should rise to nine to 10 mln dlrs from six mln dlrs in 1986 and rental operation revenues to 19 to 22 mln dlrs from 12 5 mln dlrs it said cash flow per share this year should be 2 50 to three dlrs reuter 3'"
            ]
          },
          "metadata": {
            "tags": []
          },
          "execution_count": 43
        }
      ]
    },
    {
      "metadata": {
        "id": "xM4eqqBCxI-_",
        "colab_type": "code",
        "colab": {}
      },
      "cell_type": "code",
      "source": [
        "x_train = vectorize_sequences(train_data, 10000)\n",
        "x_test = vectorize_sequences(test_data, 10000)"
      ],
      "execution_count": 0,
      "outputs": []
    },
    {
      "metadata": {
        "id": "Q1Pm-JYFxZoD",
        "colab_type": "text"
      },
      "cell_type": "markdown",
      "source": [
        "Because this is a multiclass classification problem, we need to use one-hot encoding on the labels."
      ]
    },
    {
      "metadata": {
        "id": "YAHGW-7xxRip",
        "colab_type": "code",
        "colab": {}
      },
      "cell_type": "code",
      "source": [
        "def to_one_hot(labels, dimensions=46):\n",
        "  # expects labels to be a sequence of integers, k=0..n, representing class C_k\n",
        "  results = np.zeros((len(labels), dimensions))\n",
        "  for i, label in enumerate(labels):\n",
        "    results[i, label] = 1\n",
        "  return results"
      ],
      "execution_count": 0,
      "outputs": []
    },
    {
      "metadata": {
        "id": "eN9liDKFx3Vd",
        "colab_type": "code",
        "colab": {}
      },
      "cell_type": "code",
      "source": [
        "one_hot_train_labels = to_one_hot(train_labels)\n",
        "one_hot_test_labels = to_one_hot(test_labels)"
      ],
      "execution_count": 0,
      "outputs": []
    },
    {
      "metadata": {
        "id": "3HSBDvXfx93R",
        "colab_type": "code",
        "colab": {
          "base_uri": "https://localhost:8080/",
          "height": 68
        },
        "outputId": "81960c98-b4ef-4a35-e4d6-da67f7444fa7"
      },
      "cell_type": "code",
      "source": [
        "one_hot_train_labels[0]"
      ],
      "execution_count": 53,
      "outputs": [
        {
          "output_type": "execute_result",
          "data": {
            "text/plain": [
              "array([0., 0., 0., 1., 0., 0., 0., 0., 0., 0., 0., 0., 0., 0., 0., 0., 0.,\n",
              "       0., 0., 0., 0., 0., 0., 0., 0., 0., 0., 0., 0., 0., 0., 0., 0., 0.,\n",
              "       0., 0., 0., 0., 0., 0., 0., 0., 0., 0., 0., 0.])"
            ]
          },
          "metadata": {
            "tags": []
          },
          "execution_count": 53
        }
      ]
    },
    {
      "metadata": {
        "id": "4NwSKF5qyKJW",
        "colab_type": "text"
      },
      "cell_type": "markdown",
      "source": [
        "Alternatively, we can use the Keras API to do this:"
      ]
    },
    {
      "metadata": {
        "id": "_Gl9-oR4yQMF",
        "colab_type": "code",
        "colab": {}
      },
      "cell_type": "code",
      "source": [
        "from tensorflow.keras.utils import to_categorical"
      ],
      "execution_count": 0,
      "outputs": []
    },
    {
      "metadata": {
        "id": "xQQwfEbsyGE0",
        "colab_type": "code",
        "colab": {}
      },
      "cell_type": "code",
      "source": [
        "one_hot_train_labels = to_categorical(train_labels)\n",
        "one_hot_test_labels = to_categorical(test_labels)"
      ],
      "execution_count": 0,
      "outputs": []
    },
    {
      "metadata": {
        "id": "C8l9_Pzdye4V",
        "colab_type": "code",
        "colab": {
          "base_uri": "https://localhost:8080/",
          "height": 68
        },
        "outputId": "a53c95e9-16ca-4a01-c29b-e03fa746fae7"
      },
      "cell_type": "code",
      "source": [
        "one_hot_train_labels[0]"
      ],
      "execution_count": 57,
      "outputs": [
        {
          "output_type": "execute_result",
          "data": {
            "text/plain": [
              "array([0., 0., 0., 1., 0., 0., 0., 0., 0., 0., 0., 0., 0., 0., 0., 0., 0.,\n",
              "       0., 0., 0., 0., 0., 0., 0., 0., 0., 0., 0., 0., 0., 0., 0., 0., 0.,\n",
              "       0., 0., 0., 0., 0., 0., 0., 0., 0., 0., 0., 0.], dtype=float32)"
            ]
          },
          "metadata": {
            "tags": []
          },
          "execution_count": 57
        }
      ]
    },
    {
      "metadata": {
        "id": "mPmhZ4xSymkP",
        "colab_type": "code",
        "colab": {}
      },
      "cell_type": "code",
      "source": [
        "model = models.Sequential()\n",
        "model.add(layers.Dense(64, activation='relu', input_shape=(10000,)))\n",
        "model.add(layers.Dense(64, activation='relu'))\n",
        "model.add(layers.Dense(46, activation='softmax'))"
      ],
      "execution_count": 0,
      "outputs": []
    },
    {
      "metadata": {
        "id": "yBrZaxfVyzAC",
        "colab_type": "code",
        "colab": {}
      },
      "cell_type": "code",
      "source": [
        "model.compile(optimizer='rmsprop', loss='categorical_crossentropy', metrics=['accuracy'])"
      ],
      "execution_count": 0,
      "outputs": []
    },
    {
      "metadata": {
        "id": "u66lrz04zAB5",
        "colab_type": "code",
        "colab": {}
      },
      "cell_type": "code",
      "source": [
        "x_val = x_train[:1000]\n",
        "partial_x_train = x_train[1000:]"
      ],
      "execution_count": 0,
      "outputs": []
    },
    {
      "metadata": {
        "id": "AvVigEtlzGlm",
        "colab_type": "code",
        "colab": {}
      },
      "cell_type": "code",
      "source": [
        "y_val = one_hot_train_labels[:1000]\n",
        "partial_y_train = one_hot_train_labels[1000:]"
      ],
      "execution_count": 0,
      "outputs": []
    },
    {
      "metadata": {
        "id": "5S8Y-GINzISD",
        "colab_type": "code",
        "colab": {
          "base_uri": "https://localhost:8080/",
          "height": 714
        },
        "outputId": "0e1ae091-08e2-4a18-9b98-f80634fab585"
      },
      "cell_type": "code",
      "source": [
        "history = model.fit(partial_x_train, partial_y_train, epochs=20, batch_size=512, validation_data=(x_val, y_val))"
      ],
      "execution_count": 70,
      "outputs": [
        {
          "output_type": "stream",
          "text": [
            "Train on 7982 samples, validate on 1000 samples\n",
            "Epoch 1/20\n",
            "7982/7982 [==============================] - 1s 95us/sample - loss: 2.5990 - acc: 0.5001 - val_loss: 1.6946 - val_acc: 0.6440\n",
            "Epoch 2/20\n",
            "7982/7982 [==============================] - 1s 74us/sample - loss: 1.4033 - acc: 0.7038 - val_loss: 1.2904 - val_acc: 0.7090\n",
            "Epoch 3/20\n",
            "7982/7982 [==============================] - 1s 77us/sample - loss: 1.0484 - acc: 0.7737 - val_loss: 1.1236 - val_acc: 0.7490\n",
            "Epoch 4/20\n",
            "7982/7982 [==============================] - 1s 76us/sample - loss: 0.8261 - acc: 0.8260 - val_loss: 1.0325 - val_acc: 0.7830\n",
            "Epoch 5/20\n",
            "7982/7982 [==============================] - 1s 74us/sample - loss: 0.6579 - acc: 0.8608 - val_loss: 0.9472 - val_acc: 0.8020\n",
            "Epoch 6/20\n",
            "7982/7982 [==============================] - 1s 75us/sample - loss: 0.5232 - acc: 0.8908 - val_loss: 0.8986 - val_acc: 0.8160\n",
            "Epoch 7/20\n",
            "7982/7982 [==============================] - 1s 75us/sample - loss: 0.4197 - acc: 0.9131 - val_loss: 0.8814 - val_acc: 0.8170\n",
            "Epoch 8/20\n",
            "7982/7982 [==============================] - 1s 76us/sample - loss: 0.3436 - acc: 0.9292 - val_loss: 0.8899 - val_acc: 0.8130\n",
            "Epoch 9/20\n",
            "7982/7982 [==============================] - 1s 76us/sample - loss: 0.2829 - acc: 0.9416 - val_loss: 0.8946 - val_acc: 0.8060\n",
            "Epoch 10/20\n",
            "7982/7982 [==============================] - 1s 75us/sample - loss: 0.2402 - acc: 0.9449 - val_loss: 0.8801 - val_acc: 0.8240\n",
            "Epoch 11/20\n",
            "7982/7982 [==============================] - 1s 75us/sample - loss: 0.2109 - acc: 0.9489 - val_loss: 0.8728 - val_acc: 0.8240\n",
            "Epoch 12/20\n",
            "7982/7982 [==============================] - 1s 74us/sample - loss: 0.1785 - acc: 0.9525 - val_loss: 0.9075 - val_acc: 0.8170\n",
            "Epoch 13/20\n",
            "7982/7982 [==============================] - 1s 76us/sample - loss: 0.1619 - acc: 0.9546 - val_loss: 0.9199 - val_acc: 0.8160\n",
            "Epoch 14/20\n",
            "7982/7982 [==============================] - 1s 76us/sample - loss: 0.1489 - acc: 0.9550 - val_loss: 0.9569 - val_acc: 0.8110\n",
            "Epoch 15/20\n",
            "7982/7982 [==============================] - 1s 74us/sample - loss: 0.1409 - acc: 0.9559 - val_loss: 0.9325 - val_acc: 0.8180\n",
            "Epoch 16/20\n",
            "7982/7982 [==============================] - 1s 74us/sample - loss: 0.1318 - acc: 0.9563 - val_loss: 1.0071 - val_acc: 0.8050\n",
            "Epoch 17/20\n",
            "7982/7982 [==============================] - 1s 76us/sample - loss: 0.1251 - acc: 0.9555 - val_loss: 1.0160 - val_acc: 0.8070\n",
            "Epoch 18/20\n",
            "7982/7982 [==============================] - 1s 75us/sample - loss: 0.1229 - acc: 0.9569 - val_loss: 1.0357 - val_acc: 0.8060\n",
            "Epoch 19/20\n",
            "7982/7982 [==============================] - 1s 75us/sample - loss: 0.1136 - acc: 0.9572 - val_loss: 1.0135 - val_acc: 0.8080\n",
            "Epoch 20/20\n",
            "7982/7982 [==============================] - 1s 75us/sample - loss: 0.1143 - acc: 0.9585 - val_loss: 1.0225 - val_acc: 0.8140\n"
          ],
          "name": "stdout"
        }
      ]
    },
    {
      "metadata": {
        "id": "Sl1b-JAMzcWn",
        "colab_type": "code",
        "colab": {
          "base_uri": "https://localhost:8080/",
          "height": 376
        },
        "outputId": "402aced8-fa2e-40e3-98dd-71f4fa7b5d63"
      },
      "cell_type": "code",
      "source": [
        "plot_loss(history.history)"
      ],
      "execution_count": 71,
      "outputs": [
        {
          "output_type": "display_data",
          "data": {
            "image/png": "[encoded data removed]",
            "text/plain": [
              "<Figure size 576x396 with 1 Axes>"
            ]
          },
          "metadata": {
            "tags": []
          }
        }
      ]
    },
    {
      "metadata": {
        "id": "023pkQlD22Er",
        "colab_type": "code",
        "colab": {
          "base_uri": "https://localhost:8080/",
          "height": 376
        },
        "outputId": "70860874-6ce3-4129-a318-e795a52260db"
      },
      "cell_type": "code",
      "source": [
        "plot_accuracy(history.history)"
      ],
      "execution_count": 72,
      "outputs": [
        {
          "output_type": "display_data",
          "data": {
            "image/png": "[encoded data removed]",
            "text/plain": [
              "<Figure size 576x396 with 1 Axes>"
            ]
          },
          "metadata": {
            "tags": []
          }
        }
      ]
    },
    {
      "metadata": {
        "id": "FoLQz4vu24MJ",
        "colab_type": "code",
        "colab": {
          "base_uri": "https://localhost:8080/",
          "height": 357
        },
        "outputId": "03af7ebc-7287-463c-ce27-02a80b610060"
      },
      "cell_type": "code",
      "source": [
        "model.fit(partial_x_train, partial_y_train, epochs=9, batch_size=512, validation_data=(x_val, y_val))"
      ],
      "execution_count": 73,
      "outputs": [
        {
          "output_type": "stream",
          "text": [
            "Train on 7982 samples, validate on 1000 samples\n",
            "Epoch 1/9\n",
            "7982/7982 [==============================] - 1s 79us/sample - loss: 0.1051 - acc: 0.9577 - val_loss: 1.0658 - val_acc: 0.7980\n",
            "Epoch 2/9\n",
            "7982/7982 [==============================] - 1s 78us/sample - loss: 0.1073 - acc: 0.9572 - val_loss: 1.0263 - val_acc: 0.8150\n",
            "Epoch 3/9\n",
            "7982/7982 [==============================] - 1s 77us/sample - loss: 0.1035 - acc: 0.9575 - val_loss: 1.0934 - val_acc: 0.8110\n",
            "Epoch 4/9\n",
            "7982/7982 [==============================] - 1s 77us/sample - loss: 0.1039 - acc: 0.9585 - val_loss: 1.0439 - val_acc: 0.8120\n",
            "Epoch 5/9\n",
            "7982/7982 [==============================] - 1s 72us/sample - loss: 0.0980 - acc: 0.9592 - val_loss: 1.1477 - val_acc: 0.7870\n",
            "Epoch 6/9\n",
            "7982/7982 [==============================] - 1s 72us/sample - loss: 0.0978 - acc: 0.9582 - val_loss: 1.1228 - val_acc: 0.8030\n",
            "Epoch 7/9\n",
            "7982/7982 [==============================] - 1s 74us/sample - loss: 0.0998 - acc: 0.9559 - val_loss: 1.1278 - val_acc: 0.8030\n",
            "Epoch 8/9\n",
            "7982/7982 [==============================] - 1s 71us/sample - loss: 0.1008 - acc: 0.9580 - val_loss: 1.1444 - val_acc: 0.7990\n",
            "Epoch 9/9\n",
            "7982/7982 [==============================] - 1s 72us/sample - loss: 0.0956 - acc: 0.9575 - val_loss: 1.1058 - val_acc: 0.8070\n"
          ],
          "name": "stdout"
        },
        {
          "output_type": "execute_result",
          "data": {
            "text/plain": [
              "<tensorflow.python.keras.callbacks.History at 0x7f55af6b0f98>"
            ]
          },
          "metadata": {
            "tags": []
          },
          "execution_count": 73
        }
      ]
    },
    {
      "metadata": {
        "id": "_9Fa7TJL3I3t",
        "colab_type": "code",
        "colab": {
          "base_uri": "https://localhost:8080/",
          "height": 34
        },
        "outputId": "9a589eb5-1bbb-4c19-e638-ccec559a4de1"
      },
      "cell_type": "code",
      "source": [
        "results = model.evaluate(x_test, one_hot_test_labels)"
      ],
      "execution_count": 74,
      "outputs": [
        {
          "output_type": "stream",
          "text": [
            "2246/2246 [==============================] - 0s 105us/sample - loss: 1.3321 - acc: 0.7814\n"
          ],
          "name": "stdout"
        }
      ]
    },
    {
      "metadata": {
        "id": "21387Nmw3Mot",
        "colab_type": "code",
        "colab": {}
      },
      "cell_type": "code",
      "source": [
        ""
      ],
      "execution_count": 0,
      "outputs": []
    }
  ]
}